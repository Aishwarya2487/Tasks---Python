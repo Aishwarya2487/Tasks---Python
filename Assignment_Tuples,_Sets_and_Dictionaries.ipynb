{
  "nbformat": 4,
  "nbformat_minor": 0,
  "metadata": {
    "kernelspec": {
      "display_name": "Python 3",
      "language": "python",
      "name": "python3"
    },
    "language_info": {
      "codemirror_mode": {
        "name": "ipython",
        "version": 3
      },
      "file_extension": ".py",
      "mimetype": "text/x-python",
      "name": "python",
      "nbconvert_exporter": "python",
      "pygments_lexer": "ipython3",
      "version": "3.7.4"
    },
    "colab": {
      "provenance": [],
      "include_colab_link": true
    }
  },
  "cells": [
    {
      "cell_type": "markdown",
      "metadata": {
        "id": "view-in-github",
        "colab_type": "text"
      },
      "source": [
        "<a href=\"https://colab.research.google.com/github/Aishwarya2487/Tasks---Python/blob/main/Assignment_Tuples%2C_Sets_and_Dictionaries.ipynb\" target=\"_parent\"><img src=\"https://colab.research.google.com/assets/colab-badge.svg\" alt=\"Open In Colab\"/></a>"
      ]
    },
    {
      "cell_type": "markdown",
      "metadata": {
        "id": "8WbUJEVzs8Bx"
      },
      "source": [
        "## <u>While doing this assignment only use those concepts which have been taught till now</u>"
      ]
    },
    {
      "cell_type": "markdown",
      "metadata": {
        "id": "KjPWYK0Rs8By"
      },
      "source": [
        "## <u>Problem 1</u>\n",
        "\n",
        "### Another measure of average\n",
        "\n",
        "* Mode is defined as the value that appears most often in a set of data values. Mode corresponds to the most frequent value.\n",
        "* You are given a list of numbers and you need to calculate the mode of this list"
      ]
    },
    {
      "cell_type": "code",
      "metadata": {
        "id": "34TbaGurs8Bz"
      },
      "source": [
        "# A list containing average daily temperature over 10 days\n",
        "temperatures = [34, 40, 29, 33, 42, 40, 39, 34, 34,33 ]"
      ],
      "execution_count": 1,
      "outputs": []
    },
    {
      "cell_type": "code",
      "metadata": {
        "id": "N1Yhpkiws8B3"
      },
      "source": [
        "# Step 1 : Find the unique set of values. Store this in a list\n",
        "unique_temperatures = set(temperatures)"
      ],
      "execution_count": 4,
      "outputs": []
    },
    {
      "cell_type": "code",
      "metadata": {
        "id": "KpMdlB5Fs8B8",
        "outputId": "d43babbf-0f9b-41d5-ed4a-184ad637c6ba",
        "colab": {
          "base_uri": "https://localhost:8080/"
        }
      },
      "source": [
        "# Print the unique temperature list\n",
        "print(unique_temperatures)"
      ],
      "execution_count": 5,
      "outputs": [
        {
          "output_type": "stream",
          "name": "stdout",
          "text": [
            "{33, 34, 39, 40, 42, 29}\n"
          ]
        }
      ]
    },
    {
      "cell_type": "code",
      "metadata": {
        "id": "J7CyJi_Ls8B_",
        "outputId": "7e78fa06-eb5e-448a-f666-7122f5f0c0dd",
        "colab": {
          "base_uri": "https://localhost:8080/"
        }
      },
      "source": [
        "# Step 2 : Create an empty dictionary which will contain the unique temperatures as keys and their counts in the original temperatures list as values\n",
        "temp_dict = {}\n",
        "\n",
        "# Set the values for each key separately\n",
        "# First key\n",
        "temp_dict[24] = \"Vaijapur\"\n",
        "\n",
        "\n",
        "# Second key\n",
        "temp_dict[26] = \"Mumbai\"\n",
        "\n",
        "\n",
        "\n",
        "# Third key\n",
        "temp_dict[28] = \"Rotegaon\"\n",
        "\n",
        "\n",
        "# Fourth key\n",
        "temp_dict[30] = \"Pune\"\n",
        "\n",
        "\n",
        "# Fifth key\n",
        "temp_dict[32] = \"Mumbai\"\n",
        "\n",
        "\n",
        "# Sixth key\n",
        "temp_dict[34] = \"Aurangabad\"\n",
        "\n",
        "print(temp_dict)"
      ],
      "execution_count": 13,
      "outputs": [
        {
          "output_type": "stream",
          "name": "stdout",
          "text": [
            "{24: 'Vaijapur', 26: 'Mumbai', 28: 'Rotegaon', 30: 'Pune', 32: 'Mumbai', 34: 'Aurangabad'}\n"
          ]
        }
      ]
    },
    {
      "cell_type": "code",
      "metadata": {
        "id": "4-ZxbmMxtWfQ",
        "outputId": "c8fb46af-04d1-405c-ad82-a82dcaba51e8",
        "colab": {
          "base_uri": "https://localhost:8080/"
        }
      },
      "source": [
        "# Step 3: Store the dictionary values in a list\n",
        "temp_dict_frequencies = list(temp_dict.values())\n",
        "\n",
        "# Print the list of dictionary values\n",
        "print(temp_dict_frequencies)\n",
        "\n",
        "# Find the index of the most frequent temperature value\n",
        "most_frequent_temperature_value = max(set(temp_dict_frequencies), key=temp_dict_frequencies.count)\n",
        "\n",
        "# Print the index\n",
        "print(most_frequent_temperature_value)"
      ],
      "execution_count": 20,
      "outputs": [
        {
          "output_type": "stream",
          "name": "stdout",
          "text": [
            "['Vaijapur', 'Mumbai', 'Rotegaon', 'Pune', 'Mumbai', 'Aurangabad']\n",
            "Mumbai\n"
          ]
        }
      ]
    },
    {
      "cell_type": "code",
      "metadata": {
        "id": "riu9mZhcwBY6"
      },
      "source": [
        "# Step 4 : Create the list of dictionary keys\n",
        "temp_dict_keys = \n",
        "\n",
        "# Print the list of dictionary keys\n",
        "\n",
        "\n",
        "# Calculate the mode temperature\n",
        "mode_temp = "
      ],
      "execution_count": null,
      "outputs": []
    },
    {
      "cell_type": "markdown",
      "metadata": {
        "id": "5qd8g8UUs8CM"
      },
      "source": [
        "## <u>Problem 2 </u>\n",
        "\n",
        "### Challenging the immutability of tuples\n",
        "\n",
        "You are given a list of tuples. You need to replace the last element of the last tuple"
      ]
    },
    {
      "cell_type": "code",
      "metadata": {
        "id": "FBJy9Sq_s8CN"
      },
      "source": [
        "# Input list of tuples\n",
        "\n",
        "list_of_tuples = [(10,20,30),(30,40,50),(50,60,70)]\n",
        "\n",
        "\n",
        "# Expected output : Replace the last element 70 with 100\n",
        "# output_list = [(10,20,30),(30,40,50),(50,60,100)]"
      ],
      "execution_count": null,
      "outputs": []
    },
    {
      "cell_type": "code",
      "metadata": {
        "id": "UNtYax1as8CR",
        "colab": {
          "base_uri": "https://localhost:8080/"
        },
        "outputId": "59a0e1e5-e103-454f-9eaa-57a5e1290a1c"
      },
      "source": [
        "# Your code here \n",
        "list_of_tuples = [(10,20,30),(30,40,50),(50,60,70)]\n",
        "\n",
        "for t in list_of_tuples :\n",
        "  if t == list_of_tuples[2]:\n",
        "    a = ([t[:-1] + (100,)])\n",
        "    \n",
        "# Print the output list\n",
        "list_of_tuples.pop() \n",
        "list_of_tuples.append(a)\n",
        "print(\" Replaced the last element 70 with 100: \" + str(list_of_tuples))"
      ],
      "execution_count": 86,
      "outputs": [
        {
          "output_type": "stream",
          "name": "stdout",
          "text": [
            " Replaced the last element 70 with 100: [(10, 20, 30), (30, 40, 50), [(50, 60, 100)]]\n"
          ]
        }
      ]
    },
    {
      "cell_type": "markdown",
      "metadata": {
        "id": "ejRCi-vTs8CU"
      },
      "source": [
        "## <u> Problem 3 </u>\n",
        "\n",
        "Natural Language Processing or NLP is one of the most promising fields in Machine Learning. Most of the times in NLP we deal with the textual data (a bunch of strings). Sometimes when we are processing the text, it is a common practice to get rid of some set of stop words from our original text. By default stop words are very common words used in English language such as and, or, punctuations etc.\n",
        "\n",
        "In this exercise, you are provided with a default set of stop words and you need to add some extra set of custom words."
      ]
    },
    {
      "cell_type": "code",
      "metadata": {
        "id": "C5olNuDGs8CU",
        "outputId": "f7c932a0-ba9c-476d-9ece-3a554fd053e4",
        "colab": {
          "base_uri": "https://localhost:8080/"
        }
      },
      "source": [
        "# A sample sentence \n",
        "\n",
        "sentence = 'Hello, good morning folks! Today we will announce the half yearly performance results of the company. Due to the ongoing COVID-19 pandemic, our profits have declined by 60% as compared to the last half yearly results'\n",
        "\n",
        "# Print your sentence\n",
        "print(sentence)"
      ],
      "execution_count": 83,
      "outputs": [
        {
          "output_type": "stream",
          "name": "stdout",
          "text": [
            "Hello, good morning folks! Today we will announce the half yearly performance results of the company. Due to the ongoing COVID-19 pandemic, our profits have declined by 60% as compared to the last half yearly results\n"
          ]
        }
      ]
    },
    {
      "cell_type": "code",
      "metadata": {
        "id": "B4afm8gCs8CY"
      },
      "source": [
        "# Default set of stop words \n",
        "stop_words = {\"i\", \"me\", \"my\", \"myself\", \"we\", \"our\", \"ours\", \"ourselves\", \"you\", \"your\", \"yours\", \"yourself\", \n",
        "              \"yourselves\", \"he\", \"him\", \"his\", \"himself\", \"she\", \"her\", \"hers\", \"herself\", \"it\", \"its\", \"itself\",\n",
        "              \"they\", \"them\", \"their\", \"theirs\", \"themselves\", \"what\", \"which\", \"who\", \"whom\", \"this\", \"that\",\n",
        "              \"these\", \"those\", \"am\", \"is\", \"are\", \"was\", \"were\", \"be\", \"been\", \"being\", \"have\", \"has\", \"had\",\n",
        "              \"having\", \"do\", \"does\", \"did\", \"doing\", \"a\", \"an\", \"the\", \"and\", \"but\", \"if\", \"or\", \"because\",\n",
        "              \"as\", \"until\", \"while\", \"of\", \"at\", \"by\", \"for\", \"with\", \"about\", \"against\", \"between\", \"into\",\n",
        "              \"through\", \"during\", \"before\", \"after\", \"above\", \"below\", \"to\", \"from\", \"up\", \"down\", \"in\", \"out\", \n",
        "              \"on\", \"off\", \"over\", \"under\", \"again\", \"further\", \"then\", \"once\", \"here\", \"there\", \"when\", \"where\",\n",
        "              \"why\", \"how\", \"all\", \"any\", \"both\", \"each\", \"few\", \"more\", \"most\", \"other\", \"some\", \"such\", \"no\",\n",
        "              \"nor\", \"not\", \"only\", \"own\", \"same\", \"so\", \"than\", \"too\", \"very\", \"s\", \"t\", \"can\", \"will\", \"just\",\n",
        "              \"don\", \"should\", \"now\"}\n"
      ],
      "execution_count": 106,
      "outputs": []
    },
    {
      "cell_type": "code",
      "metadata": {
        "id": "evgHHnRks8Cc",
        "outputId": "fcbee21e-3df3-40fa-9f8c-577deadb3b11",
        "colab": {
          "base_uri": "https://localhost:8080/"
        }
      },
      "source": [
        "# Update the set of stop words by adding the custom stop words\n",
        "\n",
        "print(len(stop_words))           \n",
        "custom_stop_words = [\"hello\",\"good\",\"morning\",\"half\",\"yearly\"]\n",
        "\n",
        "# Your code here\n",
        "b = set(custom_stop_words)\n",
        "\n",
        "# Print the updated stop words\n",
        "c = b.union(stop_words)\n",
        "print(c)\n",
        "print(len(c)) "
      ],
      "execution_count": 107,
      "outputs": [
        {
          "output_type": "stream",
          "name": "stdout",
          "text": [
            "127\n",
            "{'under', 'your', 'good', 'ourselves', 's', 'hers', 'with', 'about', 'me', 'being', 'no', 'them', 'the', 'or', 'of', 'other', 'where', 'there', 'yourselves', 'were', 'yearly', 'if', 'having', 'hello', 'only', 'is', 'when', 'against', 'some', 'at', 'had', 'too', 'very', 'further', 'have', 'off', 'doing', 'did', 'morning', 'over', 'will', 'between', 'do', 'itself', 'it', 'our', 'was', 'few', 'himself', 'they', 'both', 'then', 'him', 'her', 'again', 'which', 'because', 'than', 'she', 'ours', 'an', 'half', 'down', 'more', 'themselves', 'during', 'nor', 'until', 'been', 'he', 'once', 'above', 'its', 'their', 'yours', 'but', 'don', 'a', 'each', 'yourself', 'my', 'any', 'this', 'to', 'out', 'all', 'are', 'these', 'just', 'herself', 'be', 'myself', 'in', 'who', 'that', 'here', 'can', 'and', 'what', 'through', 'so', 'on', 'own', 'those', 'into', 'most', 't', 'up', 'not', 'such', 'by', 'as', 'has', 'we', 'you', 'after', 'theirs', 'does', 'below', 'same', 'am', 'i', 'for', 'whom', 'before', 'why', 'while', 'how', 'from', 'should', 'now', 'his'}\n",
            "132\n"
          ]
        }
      ]
    },
    {
      "cell_type": "code",
      "metadata": {
        "id": "1QbZrotrtIE3",
        "outputId": "7b6a0527-abe7-459f-9fa7-6418a14f9f32",
        "colab": {
          "base_uri": "https://localhost:8080/"
        }
      },
      "source": [
        "# Do the same task another way. Keep in mind to use the original set of stop_words for this piece of code\n",
        "print(len(stop_words))\n",
        "stop_words.update(b)   \n",
        "# Print the updated stop words\n",
        "print(stop_words)\n",
        "print(len(stop_words))  "
      ],
      "execution_count": 108,
      "outputs": [
        {
          "output_type": "stream",
          "name": "stdout",
          "text": [
            "127\n",
            "{'under', 'your', 'good', 'ourselves', 's', 'hers', 'with', 'about', 'me', 'being', 'no', 'them', 'the', 'or', 'of', 'other', 'where', 'there', 'yourselves', 'were', 'yearly', 'if', 'having', 'hello', 'only', 'is', 'when', 'against', 'some', 'at', 'had', 'too', 'very', 'further', 'have', 'off', 'doing', 'did', 'over', 'morning', 'will', 'between', 'do', 'itself', 'it', 'our', 'was', 'few', 'himself', 'they', 'both', 'then', 'him', 'her', 'again', 'which', 'because', 'than', 'she', 'ours', 'an', 'down', 'half', 'more', 'themselves', 'during', 'nor', 'until', 'been', 'he', 'once', 'above', 'its', 'their', 'yours', 'but', 'don', 'a', 'each', 'yourself', 'my', 'any', 'this', 'to', 'out', 'all', 'are', 'these', 'just', 'herself', 'be', 'myself', 'in', 'who', 'that', 'here', 'can', 'and', 'what', 'through', 'so', 'on', 'own', 'those', 'into', 'most', 't', 'up', 'not', 'such', 'by', 'as', 'has', 'we', 'you', 'after', 'theirs', 'does', 'below', 'same', 'am', 'i', 'for', 'whom', 'before', 'why', 'while', 'how', 'from', 'should', 'now', 'his'}\n",
            "132\n"
          ]
        }
      ]
    },
    {
      "cell_type": "markdown",
      "metadata": {
        "id": "P1rOYC8Is8Cf"
      },
      "source": [
        "## <u>Problem 4</u>\n",
        "\n",
        " Write a Python script to check whether a given key already exists in a dictionary. If it does, drop that key from the dictionary. If it does not, add that key and corresponding value to the dictionary"
      ]
    },
    {
      "cell_type": "code",
      "metadata": {
        "id": "ySeGyCtCs8Cg"
      },
      "source": [
        "# Your dictionary\n",
        "employee_dict = {'Name':'Sanket','Skills':['Python','Machine Learning','Deep Learning'],'Band':6.0,\n",
        "                 'Promotion Year':[2016,2018,2020]}"
      ],
      "execution_count": 115,
      "outputs": []
    },
    {
      "cell_type": "code",
      "metadata": {
        "id": "MI7mOHaqs8Cj",
        "outputId": "7157cc29-fe38-481d-88e5-3bfc7392a2e0",
        "colab": {
          "base_uri": "https://localhost:8080/"
        }
      },
      "source": [
        "# Check if the key 'Employee_ID' is present in the dictionary. Hint : use a boolean variable to store this value\n",
        "print(\"the key 'Employee_ID' is present = \", 4503233 in employee_dict)\n",
        "\n",
        "# If not present add this key to this dictionary and the corresponding value to be 4503233\n",
        "employee_dict ['Employee_ID'] = \"4503233\" \n",
        "print(employee_dict)"
      ],
      "execution_count": 117,
      "outputs": [
        {
          "output_type": "stream",
          "name": "stdout",
          "text": [
            "the key 'Employee_ID' is present =  False\n",
            "{'Name': 'Sanket', 'Skills': ['Python', 'Machine Learning', 'Deep Learning'], 'Band': 6.0, 'Promotion Year': [2016, 2018, 2020], 'Employee_ID': '4503233'}\n"
          ]
        }
      ]
    },
    {
      "cell_type": "code",
      "metadata": {
        "id": "ARPbZfY8s8Co",
        "outputId": "314aaed3-37b6-4409-eded-fe1aad32c5c8",
        "colab": {
          "base_uri": "https://localhost:8080/"
        }
      },
      "source": [
        "# Check if the key 'Band' is present in the dictionary.\n",
        "print( \"the key 'Band' is present = \", \"Band\" in employee_dict)\n",
        "\n",
        "# If present, drop this key from the dictionary\n",
        "del employee_dict['Band']"
      ],
      "execution_count": 120,
      "outputs": [
        {
          "output_type": "stream",
          "name": "stdout",
          "text": [
            "the key 'Band' is present =  True\n"
          ]
        }
      ]
    },
    {
      "cell_type": "code",
      "metadata": {
        "id": "lUDbbyXmulzh",
        "outputId": "61a6761a-e8e8-4456-d961-128862b42ac9",
        "colab": {
          "base_uri": "https://localhost:8080/"
        }
      },
      "source": [
        "# Print the updated dictionary\n",
        "print(employee_dict)"
      ],
      "execution_count": 121,
      "outputs": [
        {
          "output_type": "stream",
          "name": "stdout",
          "text": [
            "{'Name': 'Sanket', 'Skills': ['Python', 'Machine Learning', 'Deep Learning'], 'Promotion Year': [2016, 2018, 2020], 'Employee_ID': '4503233'}\n"
          ]
        }
      ]
    }
  ]
}
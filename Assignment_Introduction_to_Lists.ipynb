{
  "nbformat": 4,
  "nbformat_minor": 0,
  "metadata": {
    "kernelspec": {
      "display_name": "Python 3",
      "language": "python",
      "name": "python3"
    },
    "language_info": {
      "codemirror_mode": {
        "name": "ipython",
        "version": 3
      },
      "file_extension": ".py",
      "mimetype": "text/x-python",
      "name": "python",
      "nbconvert_exporter": "python",
      "pygments_lexer": "ipython3",
      "version": "3.7.4"
    },
    "colab": {
      "provenance": [],
      "include_colab_link": true
    }
  },
  "cells": [
    {
      "cell_type": "markdown",
      "metadata": {
        "id": "view-in-github",
        "colab_type": "text"
      },
      "source": [
        "<a href=\"https://colab.research.google.com/github/Aishwarya2487/Tasks---Python/blob/main/Assignment_Introduction_to_Lists.ipynb\" target=\"_parent\"><img src=\"https://colab.research.google.com/assets/colab-badge.svg\" alt=\"Open In Colab\"/></a>"
      ]
    },
    {
      "cell_type": "markdown",
      "metadata": {
        "id": "t4O7WDUFjkFq"
      },
      "source": [
        "## <u>While doing this assignment only use those concepts which have been taught till now</u>"
      ]
    },
    {
      "cell_type": "markdown",
      "metadata": {
        "id": "KB9ZI2xAjkF6"
      },
      "source": [
        "## <u>Problem 1</u>\n",
        "\n",
        "A list contains the average daily temperature(in degree Celsius) of a city over a particular week. Write a Python code to swap the highest and the lowest temperatures"
      ]
    },
    {
      "cell_type": "code",
      "metadata": {
        "id": "O3ZtUcxsjkF7"
      },
      "source": [
        "# A list containing average daily temperature over a week \n",
        "temperatures = [34, 40, 29, 33, 42, 37, 39 ]\n",
        "\n",
        "# The expected output \n",
        "# output_temperatures = [34, 40, 42, 33, 29, 37, 39]"
      ],
      "execution_count": 29,
      "outputs": []
    },
    {
      "cell_type": "code",
      "metadata": {
        "id": "HRFHv7OXjkGR",
        "colab": {
          "base_uri": "https://localhost:8080/"
        },
        "outputId": "7510d3e6-43f3-40ef-ab04-a0fd63d9af12"
      },
      "source": [
        "# Store the highest temperature\n",
        "max1 = temperatures[0]\n",
        "max_temp_index  = 0 \n",
        "print(max(temperatures))\n",
        "for i in range(1,len(temperatures)):\n",
        "  if temperatures[i] < max1:\n",
        "    max1 = temperatures[i]\n",
        "    max_temp_index  = i\n",
        "\n",
        "\n",
        "# Index of the element with the highest temperature\n",
        "print(f'Index of the maximum value is : {max_temp_index}')"
      ],
      "execution_count": 30,
      "outputs": [
        {
          "output_type": "stream",
          "name": "stdout",
          "text": [
            "42\n",
            "Index of the maximum value is : 2\n"
          ]
        }
      ]
    },
    {
      "cell_type": "code",
      "metadata": {
        "id": "8lsfVKbcjkGW",
        "colab": {
          "base_uri": "https://localhost:8080/"
        },
        "outputId": "273a21ab-fcf5-40f0-b4c9-2fc71fc22126"
      },
      "source": [
        "\n",
        "\n",
        "# Store the lowest temperature \n",
        "min1 = temperatures[0]\n",
        "min_temp_index = 0\n",
        "print(min(temperatures))\n",
        "for i in range(1,len(temperatures)):\n",
        "  if temperatures[i] > min1:\n",
        "    min1 = temperatures[i]\n",
        "    min_temp_index = i\n",
        "\n",
        "# Index of the element with the lowest temperature\n",
        "print(f'Index of the minimum value is : {min_temp_index}')"
      ],
      "execution_count": 33,
      "outputs": [
        {
          "output_type": "stream",
          "name": "stdout",
          "text": [
            "29\n",
            "Index of the minimum value is : 4\n"
          ]
        }
      ]
    },
    {
      "cell_type": "code",
      "metadata": {
        "id": "W8UkX2IHjkGc",
        "colab": {
          "base_uri": "https://localhost:8080/"
        },
        "outputId": "4a9a09b6-e6fa-45ec-c02c-f5cd08249bf4"
      },
      "source": [
        "# Swap the highest and the lowest temperatures\n",
        "temperatures.sort()\n",
        "temperatures[-1], temperatures[0] = temperatures[0], temperatures[-1]\n"
      ],
      "execution_count": 40,
      "outputs": [
        {
          "output_type": "stream",
          "name": "stdout",
          "text": [
            "[42, 33, 34, 37, 39, 40, 29]\n"
          ]
        }
      ]
    },
    {
      "cell_type": "code",
      "metadata": {
        "id": "2UpeOQ7qjkGg",
        "colab": {
          "base_uri": "https://localhost:8080/"
        },
        "outputId": "c8aa9f05-a9bd-4a0b-dfcc-4e5f5cf72a88"
      },
      "source": [
        "# Print the output list\n",
        "print(temperatures)"
      ],
      "execution_count": 41,
      "outputs": [
        {
          "output_type": "stream",
          "name": "stdout",
          "text": [
            "[42, 33, 34, 37, 39, 40, 29]\n"
          ]
        }
      ]
    },
    {
      "cell_type": "markdown",
      "metadata": {
        "id": "zxqe73yrjkGi"
      },
      "source": [
        "\n",
        "## <u>Problem 2 </u>\n",
        "\n",
        "### Measures of Averages\n",
        "\n",
        "* Mean of a group is defined as the sum of the elements in the group divided by the number of elements in the group.\n",
        "* Median is the middle number in a <b>sorted</b>, ascending or descending, list of numbers. If the list has $N$ numbers where $N$ is odd, then median is the element in the middle i.e, $(\\frac{N+1}{2})^{th}$ element. If $N$ is even, then median is the mean of $(\\frac{N}{2})^{th}$ and $(\\frac{N}{2}+1)^{th}$ elements"
      ]
    },
    {
      "cell_type": "code",
      "metadata": {
        "id": "TNWp2uyVjkGi"
      },
      "source": [
        "# List of product prices\n",
        "\n",
        "prod_price_list = [400, 250, 800, 550, 600, 820, 720, 15000, 360,250]"
      ],
      "execution_count": 19,
      "outputs": []
    },
    {
      "cell_type": "code",
      "metadata": {
        "id": "KwenpH43jkGm",
        "colab": {
          "base_uri": "https://localhost:8080/"
        },
        "outputId": "e61f019f-91f3-452b-f001-eb1a370d7c3f"
      },
      "source": [
        "# Calculate the mean of the product prices. Use list functions. Also print the mean_price\n",
        "prod_price_lista = 0\n",
        "a = len(prod_price_list)\n",
        "for i in range(0,len(prod_price_list)):\n",
        "  prod_price_lista = prod_price_lista + prod_price_list[i]\n",
        "\n",
        "print(prod_price_lista)\n",
        "  \n",
        "mean_price = prod_price_lista/a\n",
        "print(mean_price)"
      ],
      "execution_count": 36,
      "outputs": [
        {
          "output_type": "stream",
          "name": "stdout",
          "text": [
            "19750\n",
            "1975.0\n"
          ]
        }
      ]
    },
    {
      "cell_type": "markdown",
      "metadata": {
        "id": "gTojysiqjkGr"
      },
      "source": [
        "### Calculate the median price"
      ]
    },
    {
      "cell_type": "code",
      "metadata": {
        "id": "5SBpWBGEjkGr",
        "colab": {
          "base_uri": "https://localhost:8080/"
        },
        "outputId": "2754bed5-6e53-4d2a-bdb1-bb61491b5bbd"
      },
      "source": [
        "# Step 1 - Obtain the sorted list. Print the sorted_prices\n",
        "prod_price_list.sort()\n",
        "print(prod_price_list)"
      ],
      "execution_count": 37,
      "outputs": [
        {
          "output_type": "stream",
          "name": "stdout",
          "text": [
            "[250, 250, 360, 400, 550, 600, 720, 800, 820, 15000]\n"
          ]
        }
      ]
    },
    {
      "cell_type": "code",
      "metadata": {
        "id": "29eoJETXjkGu",
        "colab": {
          "base_uri": "https://localhost:8080/"
        },
        "outputId": "53b3b704-8757-4289-bcfc-08716d82a40f"
      },
      "source": [
        "# Check if the number of elements in the list is even or odd\n",
        "even = 0\n",
        "for i in range(0, len(prod_price_list)):\n",
        "  if prod_price_list[i] % 2 == 0:\n",
        "    print(\"even element\", prod_price_list[i])"
      ],
      "execution_count": 22,
      "outputs": [
        {
          "output_type": "stream",
          "name": "stdout",
          "text": [
            "even element 250\n",
            "even element 250\n",
            "even element 360\n",
            "even element 400\n",
            "even element 550\n",
            "even element 600\n",
            "even element 720\n",
            "even element 800\n",
            "even element 820\n",
            "even element 15000\n"
          ]
        }
      ]
    },
    {
      "cell_type": "code",
      "metadata": {
        "id": "RiafM7R_jkGy",
        "colab": {
          "base_uri": "https://localhost:8080/"
        },
        "outputId": "0b002f73-078b-4524-e0be-ef294743edf8"
      },
      "source": [
        "# Use the corresponding formula to calculate the median and print the median\n",
        "\n",
        "import math\n",
        "a = int(len(prod_price_list)) \n",
        "index = 0\n",
        "\n",
        "if  a % 2 == 0:\n",
        "    a = int((a/2)-1)\n",
        "    print(prod_price_list[a])\n",
        "    print(prod_price_list[a+1])\n",
        "   \n",
        "    \n",
        "\n",
        "elif a % 2 != 0:\n",
        "    a = int((a/2))\n",
        "    print(prod_price_list[a])\n"
      ],
      "execution_count": 39,
      "outputs": [
        {
          "output_type": "stream",
          "name": "stdout",
          "text": [
            "550\n",
            "600\n"
          ]
        }
      ]
    },
    {
      "cell_type": "code",
      "metadata": {
        "id": "brysk47ojkG0",
        "colab": {
          "base_uri": "https://localhost:8080/"
        },
        "outputId": "3a16c611-73f4-454c-8608-7d422ead3624"
      },
      "source": [
        "# Check which is greater, mean or median\n",
        "if mean_price > prod_price_list[a]:\n",
        "    print('mean is greater =' , mean_price)\n",
        "else :\n",
        "    print('Median is greater =' , prod_price_list[a])    "
      ],
      "execution_count": 41,
      "outputs": [
        {
          "output_type": "stream",
          "name": "stdout",
          "text": [
            "mean is greater = 1975.0\n"
          ]
        }
      ]
    },
    {
      "cell_type": "markdown",
      "metadata": {
        "id": "jB0y0UdbjkG3"
      },
      "source": [
        "### Why do you think that is the case??"
      ]
    },
    {
      "cell_type": "markdown",
      "metadata": {
        "id": "_JguWGM_-_ST"
      },
      "source": [
        "### <u>Write your explanation in this text cell</u>\n",
        "\n",
        "Your explanation :  "
      ]
    },
    {
      "cell_type": "markdown",
      "metadata": {
        "id": "J3x3tmzTjkG3"
      },
      "source": [
        "## <u> Problem 3 </u>\n",
        "\n",
        "Having a nested list sometimes might be a bit problematic. An individual was asked to collect the names of companies in the technology sector. While creating the list, by mistake the last three companies were subsumed in a list as shown below. You are required to get rid of the nesting"
      ]
    },
    {
      "cell_type": "code",
      "metadata": {
        "id": "6IbY26WqjkG4"
      },
      "source": [
        "# The list of tech companies curated by the individual\n",
        "tech_companies = ['Qualcomm','Google','Apple',['Nvidia','Cisco','Samsung']]\n",
        "\n",
        "# The final list that we want\n",
        "# correct_tech_companies = ['Qualcomm','Google','Apple','Nvidia','Cisco','Samsung']"
      ],
      "execution_count": 68,
      "outputs": []
    },
    {
      "cell_type": "code",
      "metadata": {
        "id": "anVH03bTjkG7",
        "colab": {
          "base_uri": "https://localhost:8080/"
        },
        "outputId": "492c1f0a-8d9d-46dc-dc53-d4a9e0c0f4be"
      },
      "source": [
        "# Write your code below\n",
        "\n",
        "correct_tech_companies = []\n",
        "List = tech_companies[-1]\n",
        "correct_tech_companies = tech_companies[:-1] + List\n",
        "print(correct_tech_companies)"
      ],
      "execution_count": 69,
      "outputs": [
        {
          "output_type": "stream",
          "name": "stdout",
          "text": [
            "['Qualcomm', 'Google', 'Apple', 'Nvidia', 'Cisco', 'Samsung']\n"
          ]
        }
      ]
    },
    {
      "cell_type": "code",
      "metadata": {
        "id": "BsVsotOGjkG_",
        "colab": {
          "base_uri": "https://localhost:8080/"
        },
        "outputId": "f966b727-8579-4f6d-b586-9897aed3df74"
      },
      "source": [
        "# Do the same task another way\n",
        "tech_companies.remove(List)\n",
        "tech_companies.extend(List)\n",
        "print(tech_companies)"
      ],
      "execution_count": 70,
      "outputs": [
        {
          "output_type": "stream",
          "name": "stdout",
          "text": [
            "['Qualcomm', 'Google', 'Apple', 'Nvidia', 'Cisco', 'Samsung']\n"
          ]
        }
      ]
    }
  ]
}